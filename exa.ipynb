{
 "cells": [
  {
   "cell_type": "code",
   "execution_count": 3,
   "metadata": {},
   "outputs": [],
   "source": [
    "from exa_py import Exa\n",
    "\n",
    "exa = Exa(api_key=\"7a7af5f3-2eea-40f9-8afe-07fa7e7d5aad\")\n",
    "\n",
    "result = exa.search_and_contents(\n",
    "  \"hottest AI startups\",\n",
    "  type=\"neural\",\n",
    "  use_autoprompt=True,\n",
    "  num_results=10,\n",
    "  text=True\n",
    ")\n"
   ]
  },
  {
   "cell_type": "code",
   "execution_count": 16,
   "metadata": {},
   "outputs": [
    {
     "data": {
      "text/plain": [
       "SearchResponse(results=[Result(url='https://www.paradox.ai/', id='https://www.paradox.ai/', title='Paradox: The AI assistant for recruiting, Olivia', score=0.17671683430671692, published_date='2023-01-01', author='Seema Shah, Global Talent Acquisition Operations Manager', text=\"Every great hire starts with      Meet the conversational recruiting software that automates the work your teams don’t have time for — taking candidates from hello to hired faster than ever.          See our product, clients, and business outcomes firsthand.      Recruiters and managers spend 80% of their time on repetitive admin tasks. With Paradox, it can be 0%.   CONVERSATIONAL ATS An ATS frontline teams actually love.   Meet the frictionless Conversational ATS that makes things easier and faster than ever for high-volume hiring managers and candidates.    CONVERSATIONAL CAREER SITES  A career site that adapts to every conversation.  Embrace a future where realistic job previews, employer brand content, job recommendations, and more are at a candidate's fingertips — no searching required.    HOW ELSE CAN WE HELP? Automation that saves everyone time (and money).  With our conversational recruiting platform, you can get more done with less — and create better experiences for everyone.    We measure success in client hugs (and results).     Adoption with Paradox has been absolutely amazing. Our recruiters are feeling that impact right away and it’s freeing them up to do more empowering work.            With Paradox, there are frictionless conversations going on while our recruiters are doing all that valuable stuff.             We’re reducing friction and radically simplifying hiring, not just for drivers but for our own team, too.             The most important thing is that you need to be where candidates interact. And then to speed-to-hire them very quickly. Paradox has helped us achieve that.             Our journey with Paradox has worked in stages. Now that we can get a high volume of candidates, we can research the profile of the most successful behavior technician.             The biggest impact that Paradox has had on our candidate experience has actually been decreasing the time to apply.               decrease in time to hire     decrease in job advertising     increase in hard to fill roles     candidate satisfaction rating      We work with the biggest HCM systems in the world. And we make them better.       If you do it, we can make it conversational.\", highlights=None, highlight_scores=None, summary=None), Result(url='https://www.harvey.ai/', id='https://www.harvey.ai/', title='Harvey | Generative AI for Elite Law Firms', score=0.17349405586719513, published_date=None, author='', text='Fully deployed on Azure and complete data segregation.\\n    Join now and be among the leading firms using Harvey', highlights=None, highlight_scores=None, summary=None), Result(url='https://brain.ai/#/', id='https://brain.ai/#/', title='We Build Computers That Think', score=0.17249462008476257, published_date='2021-07-28', author='', text=\"Introducing Natural  We've had our smartphones for the last 14 years. On July 28, 2021, Brain is reimagining the way we interact with our phones. Introducing Natural - the first generative interface that allows software to be in sync with your intention. You no longer go to apps, apps come to you. Simply say what you need and the right app forms itself around your words.          WHO ARE WE? At Brain.ai, we build computers that think. We invent new technologies and design metaphors that allow computers to become an extension of our minds instead of simply our hands. As we transition from the information age to the intelligence age, we bridge the existing world of software with emerging general intelligence in a natural and humane way.   As pioneers of the few-shot learning approach to NLP in 2016, we stand at the intersection of advancing the latest technology and design. Our investors include Laurene Powell Jobs, Goodwater Capital, Scott Cook and WTT Investment.                Natural AI  Natural AI, our first consumer product, is the world's first generative interface. You no longer go to Apps, Apps come to you. Simply say what you need and the right app forms itself around your words - now fulfilling millions of requests each month. Natural clears away the clutter on your screen. It allows you to focus on what you want, not how to get there.     If you are extremely curious, and won't settle for a tech company that makes incremental improvements. You want your work to be remembered, to add up to something big. You want to do work that keeps you up at night from excitement. You want your life to be filled with 'insane moments of realization.'    San Mateo，CA Full-time  Responsibilities: We are looking for a UX Designer to join us in inventing the metaphors and patterns that make up this experience. The UX Designer thinks laterally and finds clarity through making. They are excited about metaphors, and jump at the chance to play with new tools and technologies. They move between engineering and design with fluidity, and values vision over pure craftsmanship. They are flexible about ideas, and uncompromising about doing the right thing.   Qualifications and Skills:   5+ years of progressive experience in product design, web design, UI/UX design and/or art direction with a focus on web, mobile and/or enterprise products. Strong portfolio of wireframes, user interface mockups, and prototypes for real products - on the market. Experience working with stakeholders in developing value proposition canvas, customer journey mapping, and identifying KPI/OKRs. Deep knowledge of design tools - Figma, Sketch and any other tools needed. Able to design autonomously, meet milestones and comfort working in agile, fast-paced surroundings. Excited about next-generation interfaces. Strong, demonstrated visual design aptitude – a great sense for color, form, typography and other design elements is shown in your work. Meticulous attention to detail, detail-oriented, organized and strong project management skills. Comfort with ambiguity in early production definition stages. Mindset for creating clean, “less is more” user interface designs.       Apply    San Mateo，CA Full-time  Responsibilities: In this role, you’ll be sitting at the intersection of UX, NLP and engineering, designing improvements to our natural language engine, the core technology behind the intelligence of our product. You’ll get to solve difficult problems like semantic understanding, entity recognition, dialogue state tracking, knowledge base induction, personalization and active learning. On this path to product launch, you’ll have a hand in shaping a highly personal and intent-driven user experience — bringing the\", highlights=None, highlight_scores=None, summary=None), Result(url='https://www.adept.ai/', id='https://www.adept.ai/', title='Adept: Useful General Intelligence', score=0.1724446415901184, published_date='2000-01-01', author='', text='Building useful, reliable agents requires a full-stack approach       Adept’s agent capabilities   Translate user intents directly into actions       Examples of what we can do   Adept in action       What they’re saying…     An organization built on trust   Trust and security    Adept is committed to building trust in our organization by protecting our customer data, models, and products.    Visit our Trust Center →', highlights=None, highlight_scores=None, summary=None), Result(url='https://natural.ai/#/', id='https://natural.ai/#/', title='Natural - Say it and get it - Focus on what you want, not how to get there', score=0.17207403481006622, published_date='2021-07-28', author='', text=\"Introducing Natural  We've had our smartphones for the last 14 years. On July 28, 2021, Brain is reimagining the way we interact with our phones. Introducing Natural - the first generative interface that allows software to be in sync with your intention. You no longer go to apps, apps come to you. Simply say what you need and the right app forms itself around your words.              WHO ARE WE? At Brain.ai, we build computers that think. We invent new technologies and design metaphors that allow computers to become an extension of our minds instead of simply our hands. As we transition from the information age to the intelligence age, we bridge the existing world of software with emerging general intelligence in a natural and humane way.    As pioneers of the few-shot learning approach to NLP in 2016, we stand at the intersection of advancing the latest technology and design. Our investors include Laurene Powell Jobs, Goodwater Capital, Scott Cook and WTT Investment.     Beta is available now:                  Natural AI, our first consumer product, is the world's first generative interface. You no longer go to Apps, Apps come to you. Simply say what you need and the right app forms itself around your words - now fulfilling millions of requests each month. Natural clears away the clutter on your screen. It allows you to focus on what you want, not how to get there.   Beta is available now:       If you are extremely curious, and won't settle for a tech company that makes incremental improvements. You want your work to be remembered, to add up to something big. You want to do work that keeps you up at night from excitement. You want your life to be filled with 'insane moments of realization.'  Beta is available now:       San Mateo，CA Full-time Responsibilities: We are looking for a UX Designer to join us in inventing the metaphors and patterns that make up this experience. The UX Designer thinks laterally and finds clarity through making. They are excited about metaphors, and jump at the chance to play with new tools and technologies. They move between engineering and design with fluidity, and values vision over pure craftsmanship. They are flexible about ideas, and uncompromising about doing the right thing. Qualifications and Skills:  5+ years of progressive experience in product design, web design, UI/UX design and/or art direction with a focus on web, mobile and/or enterprise products. Strong portfolio of wireframes, user interface mockups, and prototypes for real products - on the market. Experience working with stakeholders in developing value proposition canvas, customer journey mapping, and identifying KPI/OKRs. Deep knowledge of design tools - Figma, Sketch and any other tools needed. Able to design autonomously, meet milestones and comfort working in agile, fast-paced surroundings. Excited about next-generation interfaces. Strong, demonstrated visual design aptitude – a great sense for color, form, typography and other design elements is shown in your work. Meticulous attention to detail, detail-oriented, organized and strong project management skills. Comfort with ambiguity in early production definition stages. Mindset for creating clean, “less is more” user interface designs.     Apply    San Mateo，CA Full-time Responsibilities: In this role, you’ll be sitting at the intersection of UX, NLP and engineering, designing improvements to our natural language engine, the core technology behind the intelligence of our product. You’ll get to solve difficult\", highlights=None, highlight_scores=None, summary=None), Result(url='https://directai.io/?utm_source=twitter&utm_medium=raw_message&utm_campaign=first_launch', id='https://directai.io/?utm_source=twitter&utm_medium=raw_message&utm_campaign=first_launch', title='DirectAI', score=0.17149890959262848, published_date='2023-01-01', author='', text=\"Vision models without training data.  Build and deploy powerful computer vision models with plain language.No code or training required.    Fundamentally different. We use large language models and zero-shot learning to instantly build models that fit your description.       We're removing the last major barrier to creating custom models -  training data.           Deploy and iterate in seconds with DirectAI        • Don't spend time assembling training data.     • Don't pay a third party to label your data.     • Don't pay to train your model.     • Don't spend months finetuning your model's behavior.        Venture-backed.Based in NYC. We're changing how people use AI in the real world. Come talk to us on .\", highlights=None, highlight_scores=None, summary=None), Result(url='https://rain.ai/', id='https://rain.ai/', title='Home', score=0.1714450716972351, published_date='2023-01-01', author='', text='0\\n  \\n  \\n \\nSkip to Content\\n \\n \\n \\nAbout\\n \\n \\nBlog\\n \\n \\nCareers\\n \\n \\nContact Us\\n \\n \\n \\nAbout\\n \\n \\nBlog\\n \\n \\nCareers\\n \\n \\nContact Us\\n \\nAbout\\nBlog\\nCareers\\n \\nContact Us\\n \\n \\n \\n We’re building the most energy efficient hardware for AI.\\n \\n \\n \\nLearn More', highlights=None, highlight_scores=None, summary=None), Result(url='https://www.tenyx.com/', id='https://www.tenyx.com/', title='Home | Tenyx, Inc.', score=0.17135149240493774, published_date='2019-09-10', author='', text=\"Let's charge the card on file.     Would you like to place the order for $127.15 on visa ending in 8106, correct?             Okay, order has been placed. I'm sending an email confirmation to your email address on file. It's estimated to arrive December 23rd.         https://audio.jukehost.co.uk/vP8f5vJRd3vVQhKJt1niOaxcquG9WPSp         Product The Three Pillars of Tenyx Tenyx has invested in three technology pillars to deliver a complete conversational AI voice service to deliver on the future of enterprise IVAs.        I'm looking to book a place to stay next weekend for three nights.        QUERY DETECTED    Oh, for next weekend? There are rooms available from the 15th to the 17th starting at $200 a night. Shall we proceed with booking?                   Perfect! Your booking is confirmed.                  I’m calling to follow up about...                      Product The Three Pillars of Tenyx Tenyx has invested in three technology pillars to deliver a complete conversational AI voice service to deliver on the future of enterprise IVAs.        I'm looking to book a place to stay next weekend for three nights.        QUERY DETECTED    Oh, for next weekend? There are rooms available from the 15th to the 17th starting at $200 a night. Shall we proceed with booking?                   Perfect! Your booking is confirmed.              A voice solution that works Conversational AI voice agents (IVAs) that work, are robust and are tailored for specific industries.         I’m calling to follow up about...             Conversational Voice Platform Voice AI technologies to deliver the best voice experience, such as endpointing, customizable turn-based conversational AI, and integrating with your critical customer service software.           Core AI Conversational AI voice agents (IVAs) that work, are robust and are tailored for specific industries.             Surveys &amp; Research  Efficient AI voice solutions for data collection, feedback gathering, and market research.          Consumer Services  Personalized AI voice solutions for customer care, product support, and loyalty programs.          E-Commerce  Dynamic AI Voice Solutions for Shopping Assistance, Order Tracking, and Customer Queries.          Hospitality &amp; Travel  Seamless AI Voice Solutions for Bookings, Concierge Services, and Guest Assistance.            Surveys &amp; Research  Efficient AI voice solutions for data collection, feedback gathering, and market research.          Consumer Services  Personalized AI voice solutions for customer care, product support, and loyalty programs.          E-Commerce  Dynamic AI Voice Solutions for Shopping Assistance, Order Tracking, and Customer Queries.          Hospitality &amp; Travel  Seamless AI Voice Solutions for Bookings, Concierge Services, and Guest Assistance.         BENEFITS OF TENYX VOICE Explore the benefits of Tenyx’s conversational AI technology for your enterprise       EMPOWERING AGENTS Enhance agent efficiency and effectiveness through intuitive AI assistance, enabling them to handle customer inquiries with confidence and ease.       INCREASED REVENUE Drive revenue growth by leveraging AI-powered customer interactions that lead to higher conversion rates and increased sales opportunities.       CONVERsATIONAL ai Transform customer service interactions with natural, human-like conversations, fostering stronger connections and deeper engagement.       BUILT TO SCALE Meet growing customer demands effortlessly with a scalable AI voice agent solution designed to adapt and expand alongside your business.       IMPROVED CX Deliver exceptional customer experiences by providing personalized, efficient support that exceeds expectations and builds brand loyalty.       ANALYTICS &amp; TESTING Gain valuable insights into customer interactions and performance metrics, allowing for continuous improvement and optimization of your customer service strategy.                     Blog         News         Blog         Press Release     Transform your customer service process with AI today   Book Demo\", highlights=None, highlight_scores=None, summary=None), Result(url='https://11x.ai/', id='https://11x.ai/', title='11x â The Home of Digital AI Workers', score=0.1706945300102234, published_date='2023-01-01', author='', text=\"Announcing our Series A     WE're hiring       Hi,     I'm     Alice.     Your     Sales     Development     Rep    I consumed trillions of datapoints to become the world's best SDR. I work 24/7, at scale, to help you grow faster and automate sales.   TRUSTED BY FUTURE-THINKING COMPANIES:         Alice drives growth 24/7 Ramp up growth without growing headcount.   Alice gets you leads on autopilot Automate every step of your outreach process, from finding and researching prospects to personalizing messages and booking meetings.    Outreach to the world with Alice Alice integrates with the tools you know and love to convert prospects on autopilot.      Hire Alice  Sign up and connect Alice into your team. She'll seamlessly fit into your existing systems, ready to begin the journey of boosting your sales efforts.   Streamline process   Save costs   All-in-one outbound solution          Train Alice  Tell Alice what you're selling and build your Ideal Customer Profile (ICP).        Grow with Alice  Alice books meetings, you close them.         Alice empowers your entire GTM team Stop prospecting, start connecting.     Revenue Operations Simplify outbound operations and boost Rep’s efficiency with a best-in-class, AI-first solution.       Marketing &amp; Growth  Grow pipeline efficiently and lower CAC with an all-in-one, 24/7, autonomous SDR.        Sales  Unlock unmatched levels of efficiency by creating opportunities at scale with the speed of AI.        Early-stage Accelerate growth and scale faster without growing headcount.           Loved by GTM teams, from Startups to Enterprise          Alice has delivered outstanding results for our business   Building our outreach strategy with Alice at its core has delivered outstanding results for our business, shifting our sales function from tedious prospect work to spending the majority of our time in new customer meetings.       Alice has opened up a world of enterprise deals, on autopilot   Using Alice, we've been able to reach buyers at some of the largest enterprises in the world, generating a consistently high volume of meetings. She's also helped us consolidate our Sales Stack, from 5 separate platforms into just Alice.        Alice closes meetings by giving us personalization at scale   Alice has been a game-changer for our SDR team. Her ability to zero in on ideal prospects and craft personalized outreach has dramatically increased our engagement rates. It's like having an extra team member who works 24/7, always focused and never misses a beat.           Alice integrates with your entire GTM stack. Automate every step of your outreach process, from finding and researching prospects to personalizing messages and booking meetings.\", highlights=None, highlight_scores=None, summary=None), Result(url='https://www.helm.ai/', id='https://www.helm.ai/', title='Helm.ai', score=0.17052285373210907, published_date='2022-01-01', author='', text='Pioneering a breakthrough in unsupervised learning for AI and autonomous technologies.   Explore Our Products and Technology   Awards   Autonomous Driving Solution of the Year   Most Innovative Use of Artificial Intelligence &amp; Machine Learning in the Development of Autonomous Vehicles &amp; Respective Technologies &amp; Overall Community Choice Award   NeurIPS: Top 30 out of 5000 AI Papers   Automobility LA Show: Best Automotive Startup Using AI      The Helm.Ai Software Development Kit Try it out at your organization and see what you can build.  LEARN MORE    A new AI approach for autonomous technologies. Deep Teaching offers far-reaching implications for the future of computer vision and autonomous driving, as well as industries including aviation, robotics, manufacturing and even retail.  Learn More     ||||I|||| TechnologyProductAboutContactBlog\\nPioneering a breakthrough in unsupervised learning for AI and autonomous technologies.\\n“The Future Of AI Is Unsupervised\"\\n“Helm.ai raises $13M on its unsupervised learning approach to driverless car AI\"\\n\"The ‘Android Of Self-Driving Cars’ Built A 100,000X Cheaper Way To Train AI For Multiple Trillion-Dollar Markets\"\\nExplore Our Products and Technology\\nL2/L3 Highway and Urban Pilot\\nL4 Consumer Vehicles, Autonomous Trucking and Last Mile Delivery\\nAwards\\nAutonomous Driving Solution of the Year\\nMost Innovative Use of Artificial Intelligence & Machine Learning in the Development of Autonomous Vehicles & Respective Technologies & Overall Community Choice Award\\nNeurIPS: Top 30 out of 5000 AI Papers\\nAutomobility LA Show: Best Automotive Startup Using AI\\nThe Helm.Ai Software Development Kit\\nTry it out at your organization and see what you can build.\\nLEARN MORE\\nA new AI approach for autonomous technologies.\\nDeep Teaching offers far-reaching implications for the future of computer vision and autonomous driving, as well as industries including aviation, robotics, manufacturing and even retail.\\nLearn More\\nHelm.ai © 2022CareersContactPrivacyTwitterLinkedIn', highlights=None, highlight_scores=None, summary=None)], autoprompt_string='Here is a link to one of the hottest AI startups:')"
      ]
     },
     "execution_count": 16,
     "metadata": {},
     "output_type": "execute_result"
    }
   ],
   "source": [
    "result"
   ]
  },
  {
   "cell_type": "code",
   "execution_count": 10,
   "metadata": {},
   "outputs": [
    {
     "name": "stdout",
     "output_type": "stream",
     "text": [
      "Every great hire starts with      Meet the conversational recruiting software that automates the work your teams don’t have time for — taking candidates from hello to hired faster than ever.          See our product, clients, and business outcomes firsthand.      Recruiters and managers spend 80% of their time on repetitive admin tasks. With Paradox, it can be 0%.   CONVERSATIONAL ATS An ATS frontline teams actually love.   Meet the frictionless Conversational ATS that makes things easier and faster than ever for high-volume hiring managers and candidates.    CONVERSATIONAL CAREER SITES  A career site that adapts to every conversation.  Embrace a future where realistic job previews, employer brand content, job recommendations, and more are at a candidate's fingertips — no searching required.    HOW ELSE CAN WE HELP? Automation that saves everyone time (and money).  With our conversational recruiting platform, you can get more done with less — and create better experiences for everyone.    We measure success in client hugs (and results).     Adoption with Paradox has been absolutely amazing. Our recruiters are feeling that impact right away and it’s freeing them up to do more empowering work.            With Paradox, there are frictionless conversations going on while our recruiters are doing all that valuable stuff.             We’re reducing friction and radically simplifying hiring, not just for drivers but for our own team, too.             The most important thing is that you need to be where candidates interact. And then to speed-to-hire them very quickly. Paradox has helped us achieve that.             Our journey with Paradox has worked in stages. Now that we can get a high volume of candidates, we can research the profile of the most successful behavior technician.             The biggest impact that Paradox has had on our candidate experience has actually been decreasing the time to apply.               decrease in time to hire     decrease in job advertising     increase in hard to fill roles     candidate satisfaction rating      We work with the biggest HCM systems in the world. And we make them better.       If you do it, we can make it conversational.\n",
      "Fully deployed on Azure and complete data segregation.\n",
      "    Join now and be among the leading firms using Harvey\n",
      "Introducing Natural  We've had our smartphones for the last 14 years. On July 28, 2021, Brain is reimagining the way we interact with our phones. Introducing Natural - the first generative interface that allows software to be in sync with your intention. You no longer go to apps, apps come to you. Simply say what you need and the right app forms itself around your words.          WHO ARE WE? At Brain.ai, we build computers that think. We invent new technologies and design metaphors that allow computers to become an extension of our minds instead of simply our hands. As we transition from the information age to the intelligence age, we bridge the existing world of software with emerging general intelligence in a natural and humane way.   As pioneers of the few-shot learning approach to NLP in 2016, we stand at the intersection of advancing the latest technology and design. Our investors include Laurene Powell Jobs, Goodwater Capital, Scott Cook and WTT Investment.                Natural AI  Natural AI, our first consumer product, is the world's first generative interface. You no longer go to Apps, Apps come to you. Simply say what you need and the right app forms itself around your words - now fulfilling millions of requests each month. Natural clears away the clutter on your screen. It allows you to focus on what you want, not how to get there.     If you are extremely curious, and won't settle for a tech company that makes incremental improvements. You want your work to be remembered, to add up to something big. You want to do work that keeps you up at night from excitement. You want your life to be filled with 'insane moments of realization.'    San Mateo，CA Full-time  Responsibilities: We are looking for a UX Designer to join us in inventing the metaphors and patterns that make up this experience. The UX Designer thinks laterally and finds clarity through making. They are excited about metaphors, and jump at the chance to play with new tools and technologies. They move between engineering and design with fluidity, and values vision over pure craftsmanship. They are flexible about ideas, and uncompromising about doing the right thing.   Qualifications and Skills:   5+ years of progressive experience in product design, web design, UI/UX design and/or art direction with a focus on web, mobile and/or enterprise products. Strong portfolio of wireframes, user interface mockups, and prototypes for real products - on the market. Experience working with stakeholders in developing value proposition canvas, customer journey mapping, and identifying KPI/OKRs. Deep knowledge of design tools - Figma, Sketch and any other tools needed. Able to design autonomously, meet milestones and comfort working in agile, fast-paced surroundings. Excited about next-generation interfaces. Strong, demonstrated visual design aptitude – a great sense for color, form, typography and other design elements is shown in your work. Meticulous attention to detail, detail-oriented, organized and strong project management skills. Comfort with ambiguity in early production definition stages. Mindset for creating clean, “less is more” user interface designs.       Apply    San Mateo，CA Full-time  Responsibilities: In this role, you’ll be sitting at the intersection of UX, NLP and engineering, designing improvements to our natural language engine, the core technology behind the intelligence of our product. You’ll get to solve difficult problems like semantic understanding, entity recognition, dialogue state tracking, knowledge base induction, personalization and active learning. On this path to product launch, you’ll have a hand in shaping a highly personal and intent-driven user experience — bringing the\n",
      "Building useful, reliable agents requires a full-stack approach       Adept’s agent capabilities   Translate user intents directly into actions       Examples of what we can do   Adept in action       What they’re saying…     An organization built on trust   Trust and security    Adept is committed to building trust in our organization by protecting our customer data, models, and products.    Visit our Trust Center →\n",
      "Introducing Natural  We've had our smartphones for the last 14 years. On July 28, 2021, Brain is reimagining the way we interact with our phones. Introducing Natural - the first generative interface that allows software to be in sync with your intention. You no longer go to apps, apps come to you. Simply say what you need and the right app forms itself around your words.              WHO ARE WE? At Brain.ai, we build computers that think. We invent new technologies and design metaphors that allow computers to become an extension of our minds instead of simply our hands. As we transition from the information age to the intelligence age, we bridge the existing world of software with emerging general intelligence in a natural and humane way.    As pioneers of the few-shot learning approach to NLP in 2016, we stand at the intersection of advancing the latest technology and design. Our investors include Laurene Powell Jobs, Goodwater Capital, Scott Cook and WTT Investment.     Beta is available now:                  Natural AI, our first consumer product, is the world's first generative interface. You no longer go to Apps, Apps come to you. Simply say what you need and the right app forms itself around your words - now fulfilling millions of requests each month. Natural clears away the clutter on your screen. It allows you to focus on what you want, not how to get there.   Beta is available now:       If you are extremely curious, and won't settle for a tech company that makes incremental improvements. You want your work to be remembered, to add up to something big. You want to do work that keeps you up at night from excitement. You want your life to be filled with 'insane moments of realization.'  Beta is available now:       San Mateo，CA Full-time Responsibilities: We are looking for a UX Designer to join us in inventing the metaphors and patterns that make up this experience. The UX Designer thinks laterally and finds clarity through making. They are excited about metaphors, and jump at the chance to play with new tools and technologies. They move between engineering and design with fluidity, and values vision over pure craftsmanship. They are flexible about ideas, and uncompromising about doing the right thing. Qualifications and Skills:  5+ years of progressive experience in product design, web design, UI/UX design and/or art direction with a focus on web, mobile and/or enterprise products. Strong portfolio of wireframes, user interface mockups, and prototypes for real products - on the market. Experience working with stakeholders in developing value proposition canvas, customer journey mapping, and identifying KPI/OKRs. Deep knowledge of design tools - Figma, Sketch and any other tools needed. Able to design autonomously, meet milestones and comfort working in agile, fast-paced surroundings. Excited about next-generation interfaces. Strong, demonstrated visual design aptitude – a great sense for color, form, typography and other design elements is shown in your work. Meticulous attention to detail, detail-oriented, organized and strong project management skills. Comfort with ambiguity in early production definition stages. Mindset for creating clean, “less is more” user interface designs.     Apply    San Mateo，CA Full-time Responsibilities: In this role, you’ll be sitting at the intersection of UX, NLP and engineering, designing improvements to our natural language engine, the core technology behind the intelligence of our product. You’ll get to solve difficult\n",
      "Vision models without training data.  Build and deploy powerful computer vision models with plain language.No code or training required.    Fundamentally different. We use large language models and zero-shot learning to instantly build models that fit your description.       We're removing the last major barrier to creating custom models -  training data.           Deploy and iterate in seconds with DirectAI        • Don't spend time assembling training data.     • Don't pay a third party to label your data.     • Don't pay to train your model.     • Don't spend months finetuning your model's behavior.        Venture-backed.Based in NYC. We're changing how people use AI in the real world. Come talk to us on .\n",
      "0\n",
      "  \n",
      "  \n",
      " \n",
      "Skip to Content\n",
      " \n",
      " \n",
      " \n",
      "About\n",
      " \n",
      " \n",
      "Blog\n",
      " \n",
      " \n",
      "Careers\n",
      " \n",
      " \n",
      "Contact Us\n",
      " \n",
      " \n",
      " \n",
      "About\n",
      " \n",
      " \n",
      "Blog\n",
      " \n",
      " \n",
      "Careers\n",
      " \n",
      " \n",
      "Contact Us\n",
      " \n",
      "About\n",
      "Blog\n",
      "Careers\n",
      " \n",
      "Contact Us\n",
      " \n",
      " \n",
      " \n",
      " We’re building the most energy efficient hardware for AI.\n",
      " \n",
      " \n",
      " \n",
      "Learn More\n",
      "Let's charge the card on file.     Would you like to place the order for $127.15 on visa ending in 8106, correct?             Okay, order has been placed. I'm sending an email confirmation to your email address on file. It's estimated to arrive December 23rd.         https://audio.jukehost.co.uk/vP8f5vJRd3vVQhKJt1niOaxcquG9WPSp         Product The Three Pillars of Tenyx Tenyx has invested in three technology pillars to deliver a complete conversational AI voice service to deliver on the future of enterprise IVAs.        I'm looking to book a place to stay next weekend for three nights.        QUERY DETECTED    Oh, for next weekend? There are rooms available from the 15th to the 17th starting at $200 a night. Shall we proceed with booking?                   Perfect! Your booking is confirmed.                  I’m calling to follow up about...                      Product The Three Pillars of Tenyx Tenyx has invested in three technology pillars to deliver a complete conversational AI voice service to deliver on the future of enterprise IVAs.        I'm looking to book a place to stay next weekend for three nights.        QUERY DETECTED    Oh, for next weekend? There are rooms available from the 15th to the 17th starting at $200 a night. Shall we proceed with booking?                   Perfect! Your booking is confirmed.              A voice solution that works Conversational AI voice agents (IVAs) that work, are robust and are tailored for specific industries.         I’m calling to follow up about...             Conversational Voice Platform Voice AI technologies to deliver the best voice experience, such as endpointing, customizable turn-based conversational AI, and integrating with your critical customer service software.           Core AI Conversational AI voice agents (IVAs) that work, are robust and are tailored for specific industries.             Surveys &amp; Research  Efficient AI voice solutions for data collection, feedback gathering, and market research.          Consumer Services  Personalized AI voice solutions for customer care, product support, and loyalty programs.          E-Commerce  Dynamic AI Voice Solutions for Shopping Assistance, Order Tracking, and Customer Queries.          Hospitality &amp; Travel  Seamless AI Voice Solutions for Bookings, Concierge Services, and Guest Assistance.            Surveys &amp; Research  Efficient AI voice solutions for data collection, feedback gathering, and market research.          Consumer Services  Personalized AI voice solutions for customer care, product support, and loyalty programs.          E-Commerce  Dynamic AI Voice Solutions for Shopping Assistance, Order Tracking, and Customer Queries.          Hospitality &amp; Travel  Seamless AI Voice Solutions for Bookings, Concierge Services, and Guest Assistance.         BENEFITS OF TENYX VOICE Explore the benefits of Tenyx’s conversational AI technology for your enterprise       EMPOWERING AGENTS Enhance agent efficiency and effectiveness through intuitive AI assistance, enabling them to handle customer inquiries with confidence and ease.       INCREASED REVENUE Drive revenue growth by leveraging AI-powered customer interactions that lead to higher conversion rates and increased sales opportunities.       CONVERsATIONAL ai Transform customer service interactions with natural, human-like conversations, fostering stronger connections and deeper engagement.       BUILT TO SCALE Meet growing customer demands effortlessly with a scalable AI voice agent solution designed to adapt and expand alongside your business.       IMPROVED CX Deliver exceptional customer experiences by providing personalized, efficient support that exceeds expectations and builds brand loyalty.       ANALYTICS &amp; TESTING Gain valuable insights into customer interactions and performance metrics, allowing for continuous improvement and optimization of your customer service strategy.                     Blog         News         Blog         Press Release     Transform your customer service process with AI today   Book Demo\n",
      "Announcing our Series A     WE're hiring       Hi,     I'm     Alice.     Your     Sales     Development     Rep    I consumed trillions of datapoints to become the world's best SDR. I work 24/7, at scale, to help you grow faster and automate sales.   TRUSTED BY FUTURE-THINKING COMPANIES:         Alice drives growth 24/7 Ramp up growth without growing headcount.   Alice gets you leads on autopilot Automate every step of your outreach process, from finding and researching prospects to personalizing messages and booking meetings.    Outreach to the world with Alice Alice integrates with the tools you know and love to convert prospects on autopilot.      Hire Alice  Sign up and connect Alice into your team. She'll seamlessly fit into your existing systems, ready to begin the journey of boosting your sales efforts.   Streamline process   Save costs   All-in-one outbound solution          Train Alice  Tell Alice what you're selling and build your Ideal Customer Profile (ICP).        Grow with Alice  Alice books meetings, you close them.         Alice empowers your entire GTM team Stop prospecting, start connecting.     Revenue Operations Simplify outbound operations and boost Rep’s efficiency with a best-in-class, AI-first solution.       Marketing &amp; Growth  Grow pipeline efficiently and lower CAC with an all-in-one, 24/7, autonomous SDR.        Sales  Unlock unmatched levels of efficiency by creating opportunities at scale with the speed of AI.        Early-stage Accelerate growth and scale faster without growing headcount.           Loved by GTM teams, from Startups to Enterprise          Alice has delivered outstanding results for our business   Building our outreach strategy with Alice at its core has delivered outstanding results for our business, shifting our sales function from tedious prospect work to spending the majority of our time in new customer meetings.       Alice has opened up a world of enterprise deals, on autopilot   Using Alice, we've been able to reach buyers at some of the largest enterprises in the world, generating a consistently high volume of meetings. She's also helped us consolidate our Sales Stack, from 5 separate platforms into just Alice.        Alice closes meetings by giving us personalization at scale   Alice has been a game-changer for our SDR team. Her ability to zero in on ideal prospects and craft personalized outreach has dramatically increased our engagement rates. It's like having an extra team member who works 24/7, always focused and never misses a beat.           Alice integrates with your entire GTM stack. Automate every step of your outreach process, from finding and researching prospects to personalizing messages and booking meetings.\n",
      "Pioneering a breakthrough in unsupervised learning for AI and autonomous technologies.   Explore Our Products and Technology   Awards   Autonomous Driving Solution of the Year   Most Innovative Use of Artificial Intelligence &amp; Machine Learning in the Development of Autonomous Vehicles &amp; Respective Technologies &amp; Overall Community Choice Award   NeurIPS: Top 30 out of 5000 AI Papers   Automobility LA Show: Best Automotive Startup Using AI      The Helm.Ai Software Development Kit Try it out at your organization and see what you can build.  LEARN MORE    A new AI approach for autonomous technologies. Deep Teaching offers far-reaching implications for the future of computer vision and autonomous driving, as well as industries including aviation, robotics, manufacturing and even retail.  Learn More     ||||I|||| TechnologyProductAboutContactBlog\n",
      "Pioneering a breakthrough in unsupervised learning for AI and autonomous technologies.\n",
      "“The Future Of AI Is Unsupervised\"\n",
      "“Helm.ai raises $13M on its unsupervised learning approach to driverless car AI\"\n",
      "\"The ‘Android Of Self-Driving Cars’ Built A 100,000X Cheaper Way To Train AI For Multiple Trillion-Dollar Markets\"\n",
      "Explore Our Products and Technology\n",
      "L2/L3 Highway and Urban Pilot\n",
      "L4 Consumer Vehicles, Autonomous Trucking and Last Mile Delivery\n",
      "Awards\n",
      "Autonomous Driving Solution of the Year\n",
      "Most Innovative Use of Artificial Intelligence & Machine Learning in the Development of Autonomous Vehicles & Respective Technologies & Overall Community Choice Award\n",
      "NeurIPS: Top 30 out of 5000 AI Papers\n",
      "Automobility LA Show: Best Automotive Startup Using AI\n",
      "The Helm.Ai Software Development Kit\n",
      "Try it out at your organization and see what you can build.\n",
      "LEARN MORE\n",
      "A new AI approach for autonomous technologies.\n",
      "Deep Teaching offers far-reaching implications for the future of computer vision and autonomous driving, as well as industries including aviation, robotics, manufacturing and even retail.\n",
      "Learn More\n",
      "Helm.ai © 2022CareersContactPrivacyTwitterLinkedIn\n"
     ]
    },
    {
     "data": {
      "text/plain": [
       "[None, None, None, None, None, None, None, None, None, None]"
      ]
     },
     "execution_count": 10,
     "metadata": {},
     "output_type": "execute_result"
    }
   ],
   "source": [
    "y"
   ]
  },
  {
   "cell_type": "code",
   "execution_count": 19,
   "metadata": {},
   "outputs": [
    {
     "data": {
      "text/markdown": [
       "Every great hire starts with      Meet the conversational recruiting software that automates the work your teams don’t have time for — taking candidates from hello to hired faster than ever.          See our product, clients, and business outcomes firsthand.      Recruiters and managers spend 80% of their time on repetitive admin tasks. With Paradox, it can be 0%.   CONVERSATIONAL ATS An ATS frontline teams actually love.   Meet the frictionless Conversational ATS that makes things easier and faster than ever for high-volume hiring managers and candidates.    CONVERSATIONAL CAREER SITES  A career site that adapts to every conversation.  Embrace a future where realistic job previews, employer brand content, job recommendations, and more are at a candidate's fingertips — no searching required.    HOW ELSE CAN WE HELP? Automation that saves everyone time (and money).  With our conversational recruiting platform, you can get more done with less — and create better experiences for everyone.    We measure success in client hugs (and results).     Adoption with Paradox has been absolutely amazing. Our recruiters are feeling that impact right away and it’s freeing them up to do more empowering work.            With Paradox, there are frictionless conversations going on while our recruiters are doing all that valuable stuff.             We’re reducing friction and radically simplifying hiring, not just for drivers but for our own team, too.             The most important thing is that you need to be where candidates interact. And then to speed-to-hire them very quickly. Paradox has helped us achieve that.             Our journey with Paradox has worked in stages. Now that we can get a high volume of candidates, we can research the profile of the most successful behavior technician.             The biggest impact that Paradox has had on our candidate experience has actually been decreasing the time to apply.               decrease in time to hire     decrease in job advertising     increase in hard to fill roles     candidate satisfaction rating      We work with the biggest HCM systems in the world. And we make them better.       If you do it, we can make it conversational."
      ],
      "text/plain": [
       "<IPython.core.display.Markdown object>"
      ]
     },
     "metadata": {},
     "output_type": "display_data"
    },
    {
     "data": {
      "text/markdown": [
       "Fully deployed on Azure and complete data segregation.\n",
       "    Join now and be among the leading firms using Harvey"
      ],
      "text/plain": [
       "<IPython.core.display.Markdown object>"
      ]
     },
     "metadata": {},
     "output_type": "display_data"
    },
    {
     "data": {
      "text/markdown": [
       "Introducing Natural  We've had our smartphones for the last 14 years. On July 28, 2021, Brain is reimagining the way we interact with our phones. Introducing Natural - the first generative interface that allows software to be in sync with your intention. You no longer go to apps, apps come to you. Simply say what you need and the right app forms itself around your words.          WHO ARE WE? At Brain.ai, we build computers that think. We invent new technologies and design metaphors that allow computers to become an extension of our minds instead of simply our hands. As we transition from the information age to the intelligence age, we bridge the existing world of software with emerging general intelligence in a natural and humane way.   As pioneers of the few-shot learning approach to NLP in 2016, we stand at the intersection of advancing the latest technology and design. Our investors include Laurene Powell Jobs, Goodwater Capital, Scott Cook and WTT Investment.                Natural AI  Natural AI, our first consumer product, is the world's first generative interface. You no longer go to Apps, Apps come to you. Simply say what you need and the right app forms itself around your words - now fulfilling millions of requests each month. Natural clears away the clutter on your screen. It allows you to focus on what you want, not how to get there.     If you are extremely curious, and won't settle for a tech company that makes incremental improvements. You want your work to be remembered, to add up to something big. You want to do work that keeps you up at night from excitement. You want your life to be filled with 'insane moments of realization.'    San Mateo，CA Full-time  Responsibilities: We are looking for a UX Designer to join us in inventing the metaphors and patterns that make up this experience. The UX Designer thinks laterally and finds clarity through making. They are excited about metaphors, and jump at the chance to play with new tools and technologies. They move between engineering and design with fluidity, and values vision over pure craftsmanship. They are flexible about ideas, and uncompromising about doing the right thing.   Qualifications and Skills:   5+ years of progressive experience in product design, web design, UI/UX design and/or art direction with a focus on web, mobile and/or enterprise products. Strong portfolio of wireframes, user interface mockups, and prototypes for real products - on the market. Experience working with stakeholders in developing value proposition canvas, customer journey mapping, and identifying KPI/OKRs. Deep knowledge of design tools - Figma, Sketch and any other tools needed. Able to design autonomously, meet milestones and comfort working in agile, fast-paced surroundings. Excited about next-generation interfaces. Strong, demonstrated visual design aptitude – a great sense for color, form, typography and other design elements is shown in your work. Meticulous attention to detail, detail-oriented, organized and strong project management skills. Comfort with ambiguity in early production definition stages. Mindset for creating clean, “less is more” user interface designs.       Apply    San Mateo，CA Full-time  Responsibilities: In this role, you’ll be sitting at the intersection of UX, NLP and engineering, designing improvements to our natural language engine, the core technology behind the intelligence of our product. You’ll get to solve difficult problems like semantic understanding, entity recognition, dialogue state tracking, knowledge base induction, personalization and active learning. On this path to product launch, you’ll have a hand in shaping a highly personal and intent-driven user experience — bringing the"
      ],
      "text/plain": [
       "<IPython.core.display.Markdown object>"
      ]
     },
     "metadata": {},
     "output_type": "display_data"
    },
    {
     "data": {
      "text/markdown": [
       "Building useful, reliable agents requires a full-stack approach       Adept’s agent capabilities   Translate user intents directly into actions       Examples of what we can do   Adept in action       What they’re saying…     An organization built on trust   Trust and security    Adept is committed to building trust in our organization by protecting our customer data, models, and products.    Visit our Trust Center →"
      ],
      "text/plain": [
       "<IPython.core.display.Markdown object>"
      ]
     },
     "metadata": {},
     "output_type": "display_data"
    },
    {
     "data": {
      "text/markdown": [
       "Introducing Natural  We've had our smartphones for the last 14 years. On July 28, 2021, Brain is reimagining the way we interact with our phones. Introducing Natural - the first generative interface that allows software to be in sync with your intention. You no longer go to apps, apps come to you. Simply say what you need and the right app forms itself around your words.              WHO ARE WE? At Brain.ai, we build computers that think. We invent new technologies and design metaphors that allow computers to become an extension of our minds instead of simply our hands. As we transition from the information age to the intelligence age, we bridge the existing world of software with emerging general intelligence in a natural and humane way.    As pioneers of the few-shot learning approach to NLP in 2016, we stand at the intersection of advancing the latest technology and design. Our investors include Laurene Powell Jobs, Goodwater Capital, Scott Cook and WTT Investment.     Beta is available now:                  Natural AI, our first consumer product, is the world's first generative interface. You no longer go to Apps, Apps come to you. Simply say what you need and the right app forms itself around your words - now fulfilling millions of requests each month. Natural clears away the clutter on your screen. It allows you to focus on what you want, not how to get there.   Beta is available now:       If you are extremely curious, and won't settle for a tech company that makes incremental improvements. You want your work to be remembered, to add up to something big. You want to do work that keeps you up at night from excitement. You want your life to be filled with 'insane moments of realization.'  Beta is available now:       San Mateo，CA Full-time Responsibilities: We are looking for a UX Designer to join us in inventing the metaphors and patterns that make up this experience. The UX Designer thinks laterally and finds clarity through making. They are excited about metaphors, and jump at the chance to play with new tools and technologies. They move between engineering and design with fluidity, and values vision over pure craftsmanship. They are flexible about ideas, and uncompromising about doing the right thing. Qualifications and Skills:  5+ years of progressive experience in product design, web design, UI/UX design and/or art direction with a focus on web, mobile and/or enterprise products. Strong portfolio of wireframes, user interface mockups, and prototypes for real products - on the market. Experience working with stakeholders in developing value proposition canvas, customer journey mapping, and identifying KPI/OKRs. Deep knowledge of design tools - Figma, Sketch and any other tools needed. Able to design autonomously, meet milestones and comfort working in agile, fast-paced surroundings. Excited about next-generation interfaces. Strong, demonstrated visual design aptitude – a great sense for color, form, typography and other design elements is shown in your work. Meticulous attention to detail, detail-oriented, organized and strong project management skills. Comfort with ambiguity in early production definition stages. Mindset for creating clean, “less is more” user interface designs.     Apply    San Mateo，CA Full-time Responsibilities: In this role, you’ll be sitting at the intersection of UX, NLP and engineering, designing improvements to our natural language engine, the core technology behind the intelligence of our product. You’ll get to solve difficult"
      ],
      "text/plain": [
       "<IPython.core.display.Markdown object>"
      ]
     },
     "metadata": {},
     "output_type": "display_data"
    },
    {
     "data": {
      "text/markdown": [
       "Vision models without training data.  Build and deploy powerful computer vision models with plain language.No code or training required.    Fundamentally different. We use large language models and zero-shot learning to instantly build models that fit your description.       We're removing the last major barrier to creating custom models -  training data.           Deploy and iterate in seconds with DirectAI        • Don't spend time assembling training data.     • Don't pay a third party to label your data.     • Don't pay to train your model.     • Don't spend months finetuning your model's behavior.        Venture-backed.Based in NYC. We're changing how people use AI in the real world. Come talk to us on ."
      ],
      "text/plain": [
       "<IPython.core.display.Markdown object>"
      ]
     },
     "metadata": {},
     "output_type": "display_data"
    },
    {
     "data": {
      "text/markdown": [
       "0\n",
       "  \n",
       "  \n",
       " \n",
       "Skip to Content\n",
       " \n",
       " \n",
       " \n",
       "About\n",
       " \n",
       " \n",
       "Blog\n",
       " \n",
       " \n",
       "Careers\n",
       " \n",
       " \n",
       "Contact Us\n",
       " \n",
       " \n",
       " \n",
       "About\n",
       " \n",
       " \n",
       "Blog\n",
       " \n",
       " \n",
       "Careers\n",
       " \n",
       " \n",
       "Contact Us\n",
       " \n",
       "About\n",
       "Blog\n",
       "Careers\n",
       " \n",
       "Contact Us\n",
       " \n",
       " \n",
       " \n",
       " We’re building the most energy efficient hardware for AI.\n",
       " \n",
       " \n",
       " \n",
       "Learn More"
      ],
      "text/plain": [
       "<IPython.core.display.Markdown object>"
      ]
     },
     "metadata": {},
     "output_type": "display_data"
    },
    {
     "data": {
      "text/markdown": [
       "Let's charge the card on file.     Would you like to place the order for $127.15 on visa ending in 8106, correct?             Okay, order has been placed. I'm sending an email confirmation to your email address on file. It's estimated to arrive December 23rd.         https://audio.jukehost.co.uk/vP8f5vJRd3vVQhKJt1niOaxcquG9WPSp         Product The Three Pillars of Tenyx Tenyx has invested in three technology pillars to deliver a complete conversational AI voice service to deliver on the future of enterprise IVAs.        I'm looking to book a place to stay next weekend for three nights.        QUERY DETECTED    Oh, for next weekend? There are rooms available from the 15th to the 17th starting at $200 a night. Shall we proceed with booking?                   Perfect! Your booking is confirmed.                  I’m calling to follow up about...                      Product The Three Pillars of Tenyx Tenyx has invested in three technology pillars to deliver a complete conversational AI voice service to deliver on the future of enterprise IVAs.        I'm looking to book a place to stay next weekend for three nights.        QUERY DETECTED    Oh, for next weekend? There are rooms available from the 15th to the 17th starting at $200 a night. Shall we proceed with booking?                   Perfect! Your booking is confirmed.              A voice solution that works Conversational AI voice agents (IVAs) that work, are robust and are tailored for specific industries.         I’m calling to follow up about...             Conversational Voice Platform Voice AI technologies to deliver the best voice experience, such as endpointing, customizable turn-based conversational AI, and integrating with your critical customer service software.           Core AI Conversational AI voice agents (IVAs) that work, are robust and are tailored for specific industries.             Surveys &amp; Research  Efficient AI voice solutions for data collection, feedback gathering, and market research.          Consumer Services  Personalized AI voice solutions for customer care, product support, and loyalty programs.          E-Commerce  Dynamic AI Voice Solutions for Shopping Assistance, Order Tracking, and Customer Queries.          Hospitality &amp; Travel  Seamless AI Voice Solutions for Bookings, Concierge Services, and Guest Assistance.            Surveys &amp; Research  Efficient AI voice solutions for data collection, feedback gathering, and market research.          Consumer Services  Personalized AI voice solutions for customer care, product support, and loyalty programs.          E-Commerce  Dynamic AI Voice Solutions for Shopping Assistance, Order Tracking, and Customer Queries.          Hospitality &amp; Travel  Seamless AI Voice Solutions for Bookings, Concierge Services, and Guest Assistance.         BENEFITS OF TENYX VOICE Explore the benefits of Tenyx’s conversational AI technology for your enterprise       EMPOWERING AGENTS Enhance agent efficiency and effectiveness through intuitive AI assistance, enabling them to handle customer inquiries with confidence and ease.       INCREASED REVENUE Drive revenue growth by leveraging AI-powered customer interactions that lead to higher conversion rates and increased sales opportunities.       CONVERsATIONAL ai Transform customer service interactions with natural, human-like conversations, fostering stronger connections and deeper engagement.       BUILT TO SCALE Meet growing customer demands effortlessly with a scalable AI voice agent solution designed to adapt and expand alongside your business.       IMPROVED CX Deliver exceptional customer experiences by providing personalized, efficient support that exceeds expectations and builds brand loyalty.       ANALYTICS &amp; TESTING Gain valuable insights into customer interactions and performance metrics, allowing for continuous improvement and optimization of your customer service strategy.                     Blog         News         Blog         Press Release     Transform your customer service process with AI today   Book Demo"
      ],
      "text/plain": [
       "<IPython.core.display.Markdown object>"
      ]
     },
     "metadata": {},
     "output_type": "display_data"
    },
    {
     "data": {
      "text/markdown": [
       "Announcing our Series A     WE're hiring       Hi,     I'm     Alice.     Your     Sales     Development     Rep    I consumed trillions of datapoints to become the world's best SDR. I work 24/7, at scale, to help you grow faster and automate sales.   TRUSTED BY FUTURE-THINKING COMPANIES:         Alice drives growth 24/7 Ramp up growth without growing headcount.   Alice gets you leads on autopilot Automate every step of your outreach process, from finding and researching prospects to personalizing messages and booking meetings.    Outreach to the world with Alice Alice integrates with the tools you know and love to convert prospects on autopilot.      Hire Alice  Sign up and connect Alice into your team. She'll seamlessly fit into your existing systems, ready to begin the journey of boosting your sales efforts.   Streamline process   Save costs   All-in-one outbound solution          Train Alice  Tell Alice what you're selling and build your Ideal Customer Profile (ICP).        Grow with Alice  Alice books meetings, you close them.         Alice empowers your entire GTM team Stop prospecting, start connecting.     Revenue Operations Simplify outbound operations and boost Rep’s efficiency with a best-in-class, AI-first solution.       Marketing &amp; Growth  Grow pipeline efficiently and lower CAC with an all-in-one, 24/7, autonomous SDR.        Sales  Unlock unmatched levels of efficiency by creating opportunities at scale with the speed of AI.        Early-stage Accelerate growth and scale faster without growing headcount.           Loved by GTM teams, from Startups to Enterprise          Alice has delivered outstanding results for our business   Building our outreach strategy with Alice at its core has delivered outstanding results for our business, shifting our sales function from tedious prospect work to spending the majority of our time in new customer meetings.       Alice has opened up a world of enterprise deals, on autopilot   Using Alice, we've been able to reach buyers at some of the largest enterprises in the world, generating a consistently high volume of meetings. She's also helped us consolidate our Sales Stack, from 5 separate platforms into just Alice.        Alice closes meetings by giving us personalization at scale   Alice has been a game-changer for our SDR team. Her ability to zero in on ideal prospects and craft personalized outreach has dramatically increased our engagement rates. It's like having an extra team member who works 24/7, always focused and never misses a beat.           Alice integrates with your entire GTM stack. Automate every step of your outreach process, from finding and researching prospects to personalizing messages and booking meetings."
      ],
      "text/plain": [
       "<IPython.core.display.Markdown object>"
      ]
     },
     "metadata": {},
     "output_type": "display_data"
    },
    {
     "data": {
      "text/markdown": [
       "Pioneering a breakthrough in unsupervised learning for AI and autonomous technologies.   Explore Our Products and Technology   Awards   Autonomous Driving Solution of the Year   Most Innovative Use of Artificial Intelligence &amp; Machine Learning in the Development of Autonomous Vehicles &amp; Respective Technologies &amp; Overall Community Choice Award   NeurIPS: Top 30 out of 5000 AI Papers   Automobility LA Show: Best Automotive Startup Using AI      The Helm.Ai Software Development Kit Try it out at your organization and see what you can build.  LEARN MORE    A new AI approach for autonomous technologies. Deep Teaching offers far-reaching implications for the future of computer vision and autonomous driving, as well as industries including aviation, robotics, manufacturing and even retail.  Learn More     ||||I|||| TechnologyProductAboutContactBlog\n",
       "Pioneering a breakthrough in unsupervised learning for AI and autonomous technologies.\n",
       "“The Future Of AI Is Unsupervised\"\n",
       "“Helm.ai raises $13M on its unsupervised learning approach to driverless car AI\"\n",
       "\"The ‘Android Of Self-Driving Cars’ Built A 100,000X Cheaper Way To Train AI For Multiple Trillion-Dollar Markets\"\n",
       "Explore Our Products and Technology\n",
       "L2/L3 Highway and Urban Pilot\n",
       "L4 Consumer Vehicles, Autonomous Trucking and Last Mile Delivery\n",
       "Awards\n",
       "Autonomous Driving Solution of the Year\n",
       "Most Innovative Use of Artificial Intelligence & Machine Learning in the Development of Autonomous Vehicles & Respective Technologies & Overall Community Choice Award\n",
       "NeurIPS: Top 30 out of 5000 AI Papers\n",
       "Automobility LA Show: Best Automotive Startup Using AI\n",
       "The Helm.Ai Software Development Kit\n",
       "Try it out at your organization and see what you can build.\n",
       "LEARN MORE\n",
       "A new AI approach for autonomous technologies.\n",
       "Deep Teaching offers far-reaching implications for the future of computer vision and autonomous driving, as well as industries including aviation, robotics, manufacturing and even retail.\n",
       "Learn More\n",
       "Helm.ai © 2022CareersContactPrivacyTwitterLinkedIn"
      ],
      "text/plain": [
       "<IPython.core.display.Markdown object>"
      ]
     },
     "metadata": {},
     "output_type": "display_data"
    },
    {
     "data": {
      "text/plain": [
       "[None, None, None, None, None, None, None, None, None, None]"
      ]
     },
     "execution_count": 19,
     "metadata": {},
     "output_type": "execute_result"
    }
   ],
   "source": [
    "from IPython.display import Markdown, display\n",
    "[display(Markdown(elem.text))for elem in result.results]"
   ]
  },
  {
   "cell_type": "code",
   "execution_count": null,
   "metadata": {},
   "outputs": [],
   "source": []
  }
 ],
 "metadata": {
  "kernelspec": {
   "display_name": "Python 3",
   "language": "python",
   "name": "python3"
  },
  "language_info": {
   "codemirror_mode": {
    "name": "ipython",
    "version": 3
   },
   "file_extension": ".py",
   "mimetype": "text/x-python",
   "name": "python",
   "nbconvert_exporter": "python",
   "pygments_lexer": "ipython3",
   "version": "3.10.6"
  }
 },
 "nbformat": 4,
 "nbformat_minor": 2
}
